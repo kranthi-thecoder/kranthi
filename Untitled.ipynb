{
 "cells": [
  {
   "cell_type": "code",
   "execution_count": 6,
   "id": "ce635199",
   "metadata": {},
   "outputs": [
    {
     "name": "stdout",
     "output_type": "stream",
     "text": [
      "Enter the frame: 100000010\n",
      "Frame after bit stuffing:   1000001010\n"
     ]
    }
   ],
   "source": [
    "st=input(\"Enter the frame: \")\n",
    "count=0\n",
    "res=\" \"\n",
    "for i in st:\n",
    "    if i=='0' and count<5:\n",
    "        res+='0'\n",
    "        count+=1\n",
    "    elif i==' ':\n",
    "        pass\n",
    "    else:\n",
    "        res+=i \n",
    "        count=0\n",
    "    if count==5:\n",
    "        res+='1'\n",
    "        count=0\n",
    "print(\"Frame after bit stuffing: \",res)"
   ]
  },
  {
   "cell_type": "code",
   "execution_count": null,
   "id": "47cba203",
   "metadata": {},
   "outputs": [],
   "source": []
  }
 ],
 "metadata": {
  "kernelspec": {
   "display_name": "Python 3 (ipykernel)",
   "language": "python",
   "name": "python3"
  },
  "language_info": {
   "codemirror_mode": {
    "name": "ipython",
    "version": 3
   },
   "file_extension": ".py",
   "mimetype": "text/x-python",
   "name": "python",
   "nbconvert_exporter": "python",
   "pygments_lexer": "ipython3",
   "version": "3.11.5"
  }
 },
 "nbformat": 4,
 "nbformat_minor": 5
}
